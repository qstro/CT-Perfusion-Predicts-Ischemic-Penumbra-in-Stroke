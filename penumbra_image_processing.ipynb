{
 "cells": [
  {
   "cell_type": "markdown",
   "metadata": {},
   "source": [
    "# Image Processing Pipeline for the Accepted Manuscript:   \n",
    "Quirin D. Strotzer, Rehab N. Khalid, Sara De Giorgi, Aman B. Patel, Michael H. Lev, Rajiv Gupta, Robert W. Regenhardt\n",
    "Predictive Value of CT Perfusion in Spatially and Volumetrically Identifying Ischemic Penumbra Against Final Infarct Size in Anterior Circulation Stroke With and Without Successful Reperfusion\n",
    "American Journal of Neuroradiology Jun 2025, ajnr.A8876; DOI: 10.3174/ajnr.A8876"
   ]
  },
  {
   "cell_type": "markdown",
   "metadata": {},
   "source": [
    "## Prerequisites\n",
    "\n",
    "Filenames:\n",
    "\n",
    "Baseline Imaging:   \n",
    "{CASE ID}_NCCT.nii.gz (baseline non contrast head CT)   \n",
    "{CASE ID}_Perfusion_Structural.nii.gz (baseline perfusion CT structural image, generated using syngo.via)      \n",
    "{CASE ID}_Perfusion_RGB.nii.gz (baseline perfusion CT RGB image with core and penumbra visualized according to chosen thresholds, generated using syngo.via)   \n",
    "\n",
    "Follow-up Imaging:   \n",
    "{CASE ID}_NCCT_FollowUP.nii.gz (follow up non contrast CT depicting infarct)   \n",
    "\n",
    "cases.txt: Case IDs (one per line)"
   ]
  },
  {
   "cell_type": "code",
   "execution_count": null,
   "metadata": {},
   "outputs": [],
   "source": [
    "from pathlib import Path\n",
    "import os\n",
    "import shutil\n",
    "from tqdm import tqdm\n",
    "import SimpleITK as sitk\n",
    "from totalsegmentator.python_api import totalsegmentator\n",
    "import torch\n",
    "import numpy as np\n",
    "import nibabel as nib\n",
    "from nipype.interfaces.ants import Registration\n",
    "from nilearn.image import resample_to_img\n",
    "\n",
    "DATA_DIR = Path(\"/your/data/directory\") # with subfolders for each case\n",
    "\n",
    "cases = [line.rstrip('\\n') for line in open(os.path.join(DATA_DIR, 'cases.txt'))]"
   ]
  },
  {
   "cell_type": "markdown",
   "metadata": {},
   "source": [
    "## Preprocess non-contrast CTs"
   ]
  },
  {
   "cell_type": "markdown",
   "metadata": {},
   "source": [
    "### Resampling to 512x512 in-plane"
   ]
  },
  {
   "cell_type": "code",
   "execution_count": null,
   "metadata": {},
   "outputs": [],
   "source": [
    "def resample_nifti_image(input_file, output_file, new_size=(512, 512), new_spacing_z=5.0):\n",
    "    image = sitk.ReadImage(input_file, sitk.sitkInt16)\n",
    "\n",
    "    original_size = image.GetSize()\n",
    "    original_spacing = image.GetSpacing()\n",
    "\n",
    "    new_spacing_x = original_spacing[0] * (original_size[0] / new_size[0])\n",
    "    new_spacing_y = original_spacing[1] * (original_size[1] / new_size[1])\n",
    "    new_spacing = (new_spacing_x, new_spacing_y, new_spacing_z)\n",
    "\n",
    "    new_size_z = int(original_size[2] * (original_spacing[2] / new_spacing_z))\n",
    "    new_size_full = (new_size[0], new_size[1], new_size_z)\n",
    "\n",
    "    resampler = sitk.ResampleImageFilter()\n",
    "    resampler.SetOutputSpacing(new_spacing)\n",
    "    resampler.SetSize(new_size_full)\n",
    "    resampler.SetOutputDirection(image.GetDirection())\n",
    "    resampler.SetOutputOrigin(image.GetOrigin())\n",
    "    resampler.SetTransform(sitk.Transform())\n",
    "    resampler.SetInterpolator(sitk.sitkLinear)\n",
    "\n",
    "    resampled_image = resampler.Execute(image)\n",
    "\n",
    "    sitk.WriteImage(resampled_image, output_file)\n",
    "\n",
    "\n",
    "for c in tqdm(cases):\n",
    "\n",
    "    try:\n",
    "        resample_nifti_image(\n",
    "            os.path.join(DATA_DIR, c, f\"{c}_NCCT.nii.gz\"),\n",
    "            os.path.join(DATA_DIR, c, f\"{c}_NCCT_REFORMAT.nii.gz\")\n",
    "        )\n",
    "    except RuntimeError:\n",
    "        print(c, \"NCCT\")\n",
    "\n",
    "    try:    \n",
    "        resample_nifti_image(\n",
    "            os.path.join(DATA_DIR, c, f\"{c}_NCCT_FollowUP.nii.gz\"),\n",
    "            os.path.join(DATA_DIR, c, f\"{c}_NCCT_FollowUP_REFORMAT.nii.gz\")\n",
    "        )\n",
    "    except RuntimeError:\n",
    "        print(c, \"FU NCCT\")"
   ]
  },
  {
   "cell_type": "markdown",
   "metadata": {},
   "source": [
    "### Skull Stripping"
   ]
  },
  {
   "cell_type": "code",
   "execution_count": null,
   "metadata": {},
   "outputs": [],
   "source": [
    "for c in tqdm(cases):\n",
    "    totalsegmentator(\n",
    "        os.path.join(DATA_DIR, c, f\"{c}_NCCT_REFORMAT.nii.gz\"),\n",
    "        os.path.join(DATA_DIR, c, f\"{c}_NCCT_REFORMAT_Segmentation.nii.gz\"),\n",
    "        ml=True,\n",
    "        #fast=True,\n",
    "        roi_subset=[\"brain\"]\n",
    "    )\n",
    "\n",
    "\n",
    "    totalsegmentator(\n",
    "        os.path.join(DATA_DIR, c, f\"{c}_NCCT_FollowUP_REFORMAT.nii.gz\"),\n",
    "        os.path.join(DATA_DIR, c, f\"{c}_NCCT_FollowUP_REFORMAT_Segmentation.nii.gz\"),\n",
    "        ml=True,\n",
    "        #fast=True,\n",
    "        roi_subset=[\"brain\"]\n",
    "    )"
   ]
  },
  {
   "cell_type": "markdown",
   "metadata": {},
   "source": [
    "### Apply Segmentation Masks"
   ]
  },
  {
   "cell_type": "code",
   "execution_count": null,
   "metadata": {},
   "outputs": [],
   "source": [
    "def load_and_apply_mask(image_path, mask_path):\n",
    "    \n",
    "    image = sitk.ReadImage(image_path)\n",
    "    mask = sitk.ReadImage(mask_path)\n",
    "    mask = mask > 0\n",
    "    filled_mask = sitk.BinaryFillhole(mask)\n",
    "    filled_mask = sitk.Cast(filled_mask, image.GetPixelID())\n",
    "    masked_image = image * filled_mask\n",
    "    masked_image = sitk.Cast(masked_image, sitk.sitkFloat32)\n",
    "    masked_image.SetOrigin((0, 0, 0))\n",
    "    masked_image.SetDirection((1.0, 0.0, 0.0, 0.0, -1.0, 0.0, 0.0, 0.0, 1.0))\n",
    "\n",
    "    return masked_image\n",
    "\n",
    "for c in tqdm(cases):\n",
    "    masked_image = load_and_apply_mask(\n",
    "        os.path.join(DATA_DIR, c, f\"{c}_NCCT_FollowUP_REFORMAT.nii.gz\"),\n",
    "        os.path.join(DATA_DIR, c, f\"{c}_NCCT_FollowUP_REFORMAT_Segmentation.nii.gz\"),\n",
    "        )\n",
    "    sitk.WriteImage(masked_image, os.path.join(DATA_DIR, c, f\"{c}_NCCT_FollowUP_REFORMAT_BET.nii.gz\"))\n",
    "\n",
    "    masked_image = load_and_apply_mask(\n",
    "        os.path.join(DATA_DIR, c, f\"{c}_NCCT_REFORMAT.nii.gz\"),\n",
    "        os.path.join(DATA_DIR, c, f\"{c}_NCCT_REFORMAT_Segmentation.nii.gz\"),\n",
    "        )\n",
    "    sitk.WriteImage(masked_image, os.path.join(DATA_DIR, c, f\"{c}_NCCT_REFORMAT_BET.nii.gz\"))"
   ]
  },
  {
   "cell_type": "markdown",
   "metadata": {},
   "source": [
    "## Preprocess Perfusion Images"
   ]
  },
  {
   "cell_type": "markdown",
   "metadata": {},
   "source": [
    "### Convert Structural Perfusion image from RGB tu HU"
   ]
  },
  {
   "cell_type": "code",
   "execution_count": null,
   "metadata": {},
   "outputs": [],
   "source": [
    "def convert_rgb_nifti_to_grayscale_hu_adjusted(input_filename, output_filename):\n",
    "\n",
    "    img_rgb = sitk.ReadImage(input_filename)\n",
    "    img_array = sitk.GetArrayFromImage(img_rgb)\n",
    "    \n",
    "    # Calculate the grayscale image using luminance formula\n",
    "    img_gray_array = np.dot(img_array[..., :3], [0.299, 0.587, 0.114])\n",
    "    img_gray_array_hu = img_gray_array - 128\n",
    "\n",
    "    # Z-score normalization\n",
    "    hu_mean = np.mean(img_gray_array_hu)\n",
    "    hu_std = np.std(img_gray_array_hu)\n",
    "    img_gray_array_hu = (img_gray_array_hu - hu_mean) / hu_std\n",
    "    \n",
    "    img_gray_hu = sitk.GetImageFromArray(img_gray_array_hu.astype(np.float32))\n",
    "    img_gray_hu.SetSpacing(img_rgb.GetSpacing())\n",
    "    img_gray_hu.SetOrigin((0,0,0))\n",
    "    img_gray_hu.SetDirection((1.0, 0.0, 0.0, 0.0, -1.0, 0.0, 0.0, 0.0, 1.0))\n",
    "\n",
    "    sitk.WriteImage(img_gray_hu, output_filename)\n",
    "\n",
    "for c in tqdm(cases):\n",
    "\n",
    "    convert_rgb_nifti_to_grayscale_hu_adjusted(\n",
    "        os.path.join(DATA_DIR, c, f\"{c}_Perfusion_Structural.nii.gz\"),\n",
    "        os.path.join(DATA_DIR, c, f\"{c}_Perfusion_Structural_HU.nii.gz\"),\n",
    "    )"
   ]
  },
  {
   "cell_type": "markdown",
   "metadata": {},
   "source": [
    "### Extract Penumbra Segmentation"
   ]
  },
  {
   "cell_type": "markdown",
   "metadata": {},
   "source": [
    "#### Reformat\n",
    "- Orientation of exported RGB images had to be adjusted (in our case)"
   ]
  },
  {
   "cell_type": "code",
   "execution_count": null,
   "metadata": {},
   "outputs": [],
   "source": [
    "def update_z_spacing_and_mirror_image(input_image_path, output_image_path):\n",
    "    image = sitk.ReadImage(input_image_path)\n",
    "    # print(image.GetDirection())\n",
    "\n",
    "    spacing = list(image.GetSpacing())\n",
    "\n",
    "    spacing[2] = 5.0\n",
    "\n",
    "    image.SetSpacing(spacing)\n",
    "\n",
    "    image = sitk.Flip(image, flipAxes=[False, False, True])\n",
    "    image.SetOrigin((0, 0, 0))\n",
    "    image.SetDirection((1.0, 0.0, 0.0, 0.0, -1.0, 0.0, 0.0, 0.0, 1.0))\n",
    "    # print(image.GetDirection())\n",
    "    sitk.WriteImage(image, output_image_path)\n",
    "\n",
    "for c in tqdm(cases):\n",
    "    update_z_spacing_and_mirror_image(\n",
    "        os.path.join(DATA_DIR, c, f\"{c}_Perfusion_RGB.nii.gz\"),\n",
    "        os.path.join(DATA_DIR, c, f\"{c}_Perfusion_RGB_reformat.nii.gz\"),\n",
    ")"
   ]
  },
  {
   "cell_type": "markdown",
   "metadata": {},
   "source": [
    "#### Extract Segmentation\n",
    "- RGB Perfusion maps had red (infarct core) and yellow (ischemic penumbra) voxels as calculated by pre-selected thresholds"
   ]
  },
  {
   "cell_type": "code",
   "execution_count": null,
   "metadata": {},
   "outputs": [],
   "source": [
    "def create_label_mask(nifti_image_path):\n",
    "\n",
    "    img = sitk.ReadImage(nifti_image_path)\n",
    "    data = sitk.GetArrayFromImage(img)\n",
    "\n",
    "    label_mask = np.zeros(data.shape[:-1], dtype=np.uint8)\n",
    "\n",
    "    #print(type(data))\n",
    "    #print(data.shape)\n",
    "\n",
    "    red_channel = data[..., 0]\n",
    "    green_channel = data[..., 1]\n",
    "    blue_channel = data[..., 2]\n",
    "\n",
    "    is_red = (red_channel == 255) & (green_channel == 0) & (blue_channel == 0)\n",
    "    is_yellow = (red_channel == 255) & (green_channel == 255) & (blue_channel == 0)\n",
    "\n",
    "    label_mask[is_red] = 1\n",
    "    label_mask[is_yellow] = 2\n",
    "\n",
    "    new_img = sitk.GetImageFromArray(label_mask)\n",
    "    new_img.CopyInformation(img)\n",
    "\n",
    "    return new_img\n",
    "\n",
    "for c in tqdm(cases):\n",
    "    label_mask = create_label_mask(os.path.join(DATA_DIR, c, f\"{c}_Perfusion_RGB_reformat.nii.gz\"))\n",
    "    sitk.WriteImage(\n",
    "        label_mask,\n",
    "        os.path.join(DATA_DIR, c, f\"{c}_Perfusion_Segmentation.nii.gz\")\n",
    "    )"
   ]
  },
  {
   "cell_type": "markdown",
   "metadata": {},
   "source": [
    "## Co-Registration"
   ]
  },
  {
   "cell_type": "code",
   "execution_count": null,
   "metadata": {},
   "outputs": [],
   "source": [
    "def co_register(fixed_image, moving_image, out_image):\n",
    "    reg = Registration()\n",
    "    reg.inputs.fixed_image = fixed_image\n",
    "    reg.inputs.moving_image = moving_image\n",
    "    reg.inputs.output_transform_prefix = \"transform\"\n",
    "    reg.inputs.transforms = [\"Rigid\", \"Affine\", \"SyN\"]\n",
    "    reg.inputs.num_threads = 10\n",
    "    reg.inputs.float = True\n",
    "    reg.inputs.transform_parameters = [(2.0,), (2.0,), (0.25, 3.0, 0.0)]\n",
    "    reg.inputs.number_of_iterations = [[1000, 200], [1000, 200], [100, 50, 30]]\n",
    "    reg.inputs.dimension = 3\n",
    "    reg.inputs.write_composite_transform = False\n",
    "    reg.inputs.collapse_output_transforms = True\n",
    "    reg.inputs.initialize_transforms_per_stage = False\n",
    "    reg.inputs.output_inverse_warped_image = False\n",
    "    reg.inputs.metric = [\"Mattes\"] * 3\n",
    "    reg.inputs.metric_weight = [1] * 3\n",
    "    reg.inputs.radius_or_number_of_bins = [32] * 3\n",
    "    reg.inputs.sampling_strategy = [\"Random\", \"Random\", None]\n",
    "    reg.inputs.sampling_percentage = [0.05, 0.05, None]\n",
    "    reg.inputs.convergence_threshold = [1.0e-8, 1.0e-8, 1.0e-9]\n",
    "    reg.inputs.convergence_window_size = [20] * 3\n",
    "    reg.inputs.smoothing_sigmas = [[1, 0], [1, 0], [2, 1, 0]]\n",
    "    reg.inputs.sigma_units = [\"vox\"] * 3\n",
    "    reg.inputs.shrink_factors = [[2, 1], [2, 1], [3, 2, 1]]\n",
    "    reg.inputs.use_estimate_learning_rate_once = [True] * 3\n",
    "    reg.inputs.use_histogram_matching = [True] * 3\n",
    "    reg.inputs.output_warped_image = out_image\n",
    "    reg.run()\n",
    "\n",
    "for c in tqdm(cases):\n",
    "\n",
    "    print(c)\n",
    "\n",
    "    try:\n",
    "\n",
    "        co_register(\n",
    "            os.path.join(DATA_DIR, c, f\"{c}_Perfusion_Structural_HU.nii.gz\"),\n",
    "            os.path.join(DATA_DIR, c, f\"{c}_NCCT_REFORMAT_BET.nii.gz\"),\n",
    "            os.path.join(DATA_DIR, c, f\"{c}_NCCT_REFORMAT_BET_COREG.nii.gz\"),\n",
    "        )\n",
    "\n",
    "        co_register(\n",
    "            os.path.join(DATA_DIR, c, f\"{c}_Perfusion_Structural_HU.nii.gz\"),\n",
    "            os.path.join(DATA_DIR, c, f\"{c}_NCCT_FollowUP_REFORMAT_BET.nii.gz\"),\n",
    "            os.path.join(DATA_DIR, c, f\"{c}_NCCT_FollowUP_REFORMAT_BET_COREG.nii.gz\"),\n",
    "        )\n",
    "    \n",
    "    except Exception as e:\n",
    "        print(e)"
   ]
  },
  {
   "cell_type": "markdown",
   "metadata": {},
   "source": [
    "## Resample to Perfusion RGB Space\n",
    "- Otherwise the positioning of the two segmentations might not be correct"
   ]
  },
  {
   "cell_type": "code",
   "execution_count": null,
   "metadata": {},
   "outputs": [],
   "source": [
    "images_to_resample = [\n",
    "\"NCCT_FollowUP_REFORMAT_BET_COREG\",\n",
    "\"Perfusion_Structural_HU\",\n",
    "\"NCCT_REFORMAT_BET_COREG\",\n",
    "]\n",
    "\n",
    "for c in tqdm(cases):\n",
    "\n",
    "    for img in images_to_resample:\n",
    "\n",
    "        fixed_path = os.path.join(DATA_DIR, c, f\"{c}_Perfusion_RGB_reformat.nii.gz\")\n",
    "        moving_path = os.path.join(DATA_DIR, c, f\"{c}_{img}.nii.gz\")\n",
    "        img1 = nib.load(fixed_path)\n",
    "        img2 = nib.load(moving_path)\n",
    "\n",
    "        # Copy the affine (sform) from img1 to img2\n",
    "        resampled_img2 = resample_to_img(img2, img1, interpolation='nearest')\n",
    "\n",
    "        adjusted_img2_path = os.path.join(DATA_DIR, c, f\"{c}_{img}_RESAMPLE.nii.gz\")\n",
    "        nib.save(resampled_img2, adjusted_img2_path)"
   ]
  },
  {
   "cell_type": "markdown",
   "metadata": {},
   "source": [
    "## Segment Follow up Defect and Correct Perfusion Segmentation\n",
    "\n",
    "- This is a manual step. Use a segmentation tool of your choice to:    \n",
    "(I) Segment the ischemic defect on the follow up non contrast CT.   \n",
    "(II) Inspect and, if needed, remove artifacts from the perfusion segmentation.  "
   ]
  }
 ],
 "metadata": {
  "kernelspec": {
   "display_name": "brain-env",
   "language": "python",
   "name": "python3"
  },
  "language_info": {
   "codemirror_mode": {
    "name": "ipython",
    "version": 3
   },
   "file_extension": ".py",
   "mimetype": "text/x-python",
   "name": "python",
   "nbconvert_exporter": "python",
   "pygments_lexer": "ipython3"
  }
 },
 "nbformat": 4,
 "nbformat_minor": 2
}
